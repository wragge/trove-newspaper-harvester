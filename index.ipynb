{
 "cells": [
  {
   "cell_type": "code",
   "execution_count": null,
   "metadata": {},
   "outputs": [],
   "source": [
    "#| hide\n",
    "from trove_newspaper_harvester.core import Harvester"
   ]
  },
  {
   "cell_type": "markdown",
   "metadata": {},
   "source": [
    "# trove-newspaper-harvester\n",
    "\n",
    "> tool for downloading large numbers of digitised newspaper articles from Trove"
   ]
  },
  {
   "cell_type": "markdown",
   "metadata": {},
   "source": [
    "[![](https://zenodo.org/badge/DOI/10.5281/zenodo.7103174.svg)](https://doi.org/10.5281/zenodo.7103174)\n",
    "\n",
    "[View the full documentation](https://wragge.github.io/trove-newspaper-harvester/)"
   ]
  },
  {
   "cell_type": "markdown",
   "metadata": {},
   "source": [
    "## No installation required!\n",
    "\n",
    "If you want to use the harvester without installing anything, just head over to the [Trove Newspaper Harvester](https://glam-workbench.github.io/trove-harvester/) section in my GLAM Workbench.\n",
    "\n",
    "## Installation\n",
    "\n",
    "```sh\n",
    "pip install trove-newspaper-harvester\n",
    "```\n",
    "\n",
    "## Use as a library\n",
    "\n",
    "```python\n",
    "from trove_newspaper_harvester.core import prepare_query, Harvester\n",
    "```\n",
    "\n",
    "Generate a set of query parameters using `prepare_query`.\n",
    "\n",
    "```python\n",
    "my_query = \"https://trove.nla.gov.au/search/category/newspapers?keyword=wragge\"\n",
    "my_api_key = \"mYSecREtkEy\"\n",
    "\n",
    "my_query_params = prepare_query(query=my_query, key=my_api_key)\n",
    "```\n",
    "\n",
    "Initialise the `Harvester` with your query parameters.\n",
    "\n",
    "```sh\n",
    "harvester = Harvester(query_params=my_query_params)\n",
    "```\n",
    "\n",
    "Start the harvest!\n",
    "\n",
    "```sh\n",
    "harvester.harvest()\n",
    "```\n",
    "\n",
    "If the harvest fails just run `Harvester.harvest` again.\n",
    "\n",
    "[See the core module documentation](https://wragge.github.io/trove-newspaper-harvester/core.html) for more options and examples.\n",
    "\n",
    "## Use as a command-line tool\n",
    "\n",
    "Before you do any harvesting you need to get yourself a [Trove API key](https://trove.nla.gov.au/about/create-something/using-api).\n",
    "\n",
    "There are three basic commands:\n",
    "\n",
    "* **start** -- start a new harvest\n",
    "* **restart** -- restart a stalled harvest\n",
    "* **report** -- view harvest details\n",
    "\n",
    "### Start a harvest\n",
    "\n",
    "To start a new harvest you can just do:\n",
    "\n",
    "``` sh\n",
    "troveharvester start \"[Trove query]\" [Trove API key]\n",
    "```\n",
    "\n",
    "The Trove query can either be a url copied and pasted from a search in the [Trove web interface](http://trove.nla.gov.au/newspaper/), or a Trove API query url constructed using something like the [Trove API Console](https://troveconsole.herokuapp.com/). Enclose the url in double quotes.\n",
    "\n",
    "[See the CLI module documentation](https://wragge.github.io/trove-newspaper-harvester/cli.html) for more details.\n"
   ]
  },
  {
   "cell_type": "markdown",
   "metadata": {},
   "source": [
    "----\n",
    "\n",
    "Created by [Tim Sherratt](https://timsherratt.org/) for the [GLAM Workbench](https://glam-workbench.net/). Support this project by becoming a [GitHub sponsor](https://github.com/sponsors/wragge?o=esb)."
   ]
  }
 ],
 "metadata": {
  "kernelspec": {
   "display_name": "Python 3 (ipykernel)",
   "language": "python",
   "name": "python3"
  }
 },
 "nbformat": 4,
 "nbformat_minor": 4
}
